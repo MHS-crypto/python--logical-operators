{
 "cells": [
  {
   "cell_type": "code",
   "execution_count": 2,
   "metadata": {},
   "outputs": [
    {
     "name": "stdout",
     "output_type": "stream",
     "text": [
      "The numbers are greater than 0\n",
      "Both numbers are less than 0\n",
      "Both numbers are not greater than 12\n"
     ]
    }
   ],
   "source": [
    "#python program to demonstrate\n",
    "#the use of logical and operator\n",
    "\n",
    "a = 15\n",
    "b = 10\n",
    "\n",
    "# firstly we will give both true operands\n",
    "if a > 0 and b > 0:\n",
    "    print(\"The numbers are greater than 0\")\n",
    "else:\n",
    "    print(\"The numbers are less than 0\")\n",
    "    \n",
    "# now we will give both false operands\n",
    "if a > 20 and b > 20:\n",
    "    print(\"Both numbers are greater than 20\")\n",
    "else:\n",
    "    print(\"Both numbers are less than 20\")\n",
    "    \n",
    "\n",
    "# lastly we will give one true and one false operator\n",
    "if a >12 and b > 12:\n",
    "    print(\"Both numbers are greater than 12\")\n",
    "else:\n",
    "    print(\"Both numbers are not greater than 12\")"
   ]
  },
  {
   "cell_type": "code",
   "execution_count": 8,
   "metadata": {
    "scrolled": true
   },
   "outputs": [
    {
     "name": "stdout",
     "output_type": "stream",
     "text": [
      "The numbers are greater than 0\n",
      "Both numbers are less than 20\n",
      "Both numbers are greater than 12\n"
     ]
    }
   ],
   "source": [
    "#python program to demonstrate\n",
    "#the use of logical OR operator\n",
    "\n",
    "a = 15\n",
    "b = 10\n",
    "\n",
    "# firstly we will give both true operands\n",
    "if a > 0 or b > 0:\n",
    "    print(\"The numbers are greater than 0\")\n",
    "else:\n",
    "    print(\"The numbers are less than 0\")\n",
    "    \n",
    "# now we will give both false operands\n",
    "if a > 20 or b > 20:\n",
    "    print(\"Both numbers are greater than 20\")\n",
    "else:\n",
    "    print(\"Both numbers are less than 20\")\n",
    "    \n",
    "\n",
    "# lastly we will give one true and one false operator\n",
    "if a >12 or b > 12:\n",
    "    print(\"Both numbers are greater than 12\")\n",
    "else:\n",
    "    print(\"Both numbers are not greater than 12\")"
   ]
  },
  {
   "cell_type": "code",
   "execution_count": 11,
   "metadata": {},
   "outputs": [],
   "source": [
    "# python program to demostrate\n",
    "# the use of logical NOT operator\n",
    "\n",
    "a = True\n",
    "b = False\n",
    "\n",
    "if not a:\n",
    "    print(\"The new value of a is:\", a)\n",
    "    \n",
    "    \n"
   ]
  },
  {
   "cell_type": "code",
   "execution_count": null,
   "metadata": {},
   "outputs": [],
   "source": []
  }
 ],
 "metadata": {
  "kernelspec": {
   "display_name": "Python 3",
   "language": "python",
   "name": "python3"
  },
  "language_info": {
   "codemirror_mode": {
    "name": "ipython",
    "version": 3
   },
   "file_extension": ".py",
   "mimetype": "text/x-python",
   "name": "python",
   "nbconvert_exporter": "python",
   "pygments_lexer": "ipython3",
   "version": "3.7.3"
  }
 },
 "nbformat": 4,
 "nbformat_minor": 2
}
